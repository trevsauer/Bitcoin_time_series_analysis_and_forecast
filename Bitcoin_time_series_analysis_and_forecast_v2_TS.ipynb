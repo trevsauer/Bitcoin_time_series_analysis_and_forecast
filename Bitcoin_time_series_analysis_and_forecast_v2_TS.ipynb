{
 "cells": [
  {
   "cell_type": "code",
   "execution_count": 1,
   "id": "749db96e",
   "metadata": {
    "execution": {
     "iopub.execute_input": "2023-11-20T03:30:41.447528Z",
     "iopub.status.busy": "2023-11-20T03:30:41.445528Z",
     "iopub.status.idle": "2023-11-20T03:30:42.528828Z",
     "shell.execute_reply": "2023-11-20T03:30:42.526825Z",
     "shell.execute_reply.started": "2023-11-20T03:30:41.447528Z"
    },
    "tags": []
   },
   "outputs": [],
   "source": [
    "# Import Packages\n",
    "import numpy as np\n",
    "import pandas as pd\n",
    "import os"
   ]
  },
  {
   "cell_type": "code",
   "execution_count": 18,
   "id": "61e4e323",
   "metadata": {
    "execution": {
     "iopub.execute_input": "2023-11-20T03:35:26.424053Z",
     "iopub.status.busy": "2023-11-20T03:35:26.424053Z",
     "iopub.status.idle": "2023-11-20T03:35:26.544398Z",
     "shell.execute_reply": "2023-11-20T03:35:26.542393Z",
     "shell.execute_reply.started": "2023-11-20T03:35:26.424053Z"
    },
    "tags": []
   },
   "outputs": [
    {
     "name": "stdout",
     "output_type": "stream",
     "text": [
      "5-Year Breakeven Inflation Rate - 2018-2021\n",
      "Crude Oil Prices Brent - Europe - 2018-2021\n",
      "Crude Oil WTI Futures Historical Data - 2018-2021\n",
      "Daily Federal Funds Rate from 2018-2021\n",
      "daily-treasury-rates - 2018-2021\n",
      "Digital_Currency\n",
      "Dow Jones Industrial Average-DJIA - 2018-2021\n",
      "Economic Policy Uncertainty Index for United States - 2018-2021\n"
     ]
    }
   ],
   "source": [
    "# Folder path\n",
    "folder_path = r'C:\\MIDS\\ADS-506-Applied_Time_Series_Analysis\\Bitcoin_time_series_analysis_and_forecast\\data'\n",
    "\n",
    "# Get a list of all CSV files in the folder\n",
    "csv_files = [f for f in os.listdir(folder_path) if f.endswith('.csv')]\n",
    "\n",
    "# Create a dictionary to store DataFrames\n",
    "dataframes = {}\n",
    "\n",
    "# Read each CSV file into a DataFrame and store it in the dictionary\n",
    "for csv_file in csv_files:\n",
    "    file_name = os.path.basename(csv_file)  # Extract the file name from the path\n",
    "    short_name = os.path.splitext(file_name)[0]  # Remove the file extension\n",
    "    df = pd.read_csv(os.path.join(folder_path, csv_file))\n",
    "    dataframes[short_name] = df\n",
    "\n",
    "for name in dataframes:\n",
    "    print(name)\n",
    "# Now, dataframes is a dictionary where keys are the short names and values are the DataFrames\n",
    "# You can access each DataFrame like dataframes['treasury_rates_df'], dataframes['federal_funds_df'], etc."
   ]
  },
  {
   "cell_type": "code",
   "execution_count": 4,
   "id": "4ca7ed23",
   "metadata": {
    "execution": {
     "iopub.execute_input": "2023-11-20T03:31:10.164994Z",
     "iopub.status.busy": "2023-11-20T03:31:10.164515Z",
     "iopub.status.idle": "2023-11-20T03:31:10.258689Z",
     "shell.execute_reply": "2023-11-20T03:31:10.256685Z",
     "shell.execute_reply.started": "2023-11-20T03:31:10.164994Z"
    },
    "tags": []
   },
   "outputs": [
    {
     "name": "stdout",
     "output_type": "stream",
     "text": [
      "<class 'pandas.core.frame.DataFrame'>\n",
      "RangeIndex: 1000 entries, 0 to 999\n",
      "Data columns (total 10 columns):\n",
      " #   Column      Non-Null Count  Dtype  \n",
      "---  ------      --------------  -----  \n",
      " 0   Unnamed: 0  1000 non-null   object \n",
      " 1   open_SAR    1000 non-null   float64\n",
      " 2   open_USD    1000 non-null   float64\n",
      " 3   high_SAR    1000 non-null   float64\n",
      " 4   high_USD    1000 non-null   float64\n",
      " 5   low_SAR     1000 non-null   float64\n",
      " 6   low_USD     1000 non-null   float64\n",
      " 7   close_SAR   1000 non-null   float64\n",
      " 8   close_USD   1000 non-null   float64\n",
      " 9   volume      1000 non-null   int64  \n",
      "dtypes: float64(8), int64(1), object(1)\n",
      "memory usage: 78.2+ KB\n"
     ]
    }
   ],
   "source": [
    "# Explore data characteristics\n",
    "digitalCurrency_df.info()"
   ]
  },
  {
   "cell_type": "code",
   "execution_count": 5,
   "id": "6f181123",
   "metadata": {
    "execution": {
     "iopub.execute_input": "2023-11-20T03:31:10.691054Z",
     "iopub.status.busy": "2023-11-20T03:31:10.690018Z",
     "iopub.status.idle": "2023-11-20T03:31:10.769785Z",
     "shell.execute_reply": "2023-11-20T03:31:10.768764Z",
     "shell.execute_reply.started": "2023-11-20T03:31:10.691054Z"
    },
    "tags": []
   },
   "outputs": [
    {
     "data": {
      "text/plain": [
       "Unnamed: 0    0\n",
       "open_SAR      0\n",
       "open_USD      0\n",
       "high_SAR      0\n",
       "high_USD      0\n",
       "low_SAR       0\n",
       "low_USD       0\n",
       "close_SAR     0\n",
       "close_USD     0\n",
       "volume        0\n",
       "dtype: int64"
      ]
     },
     "execution_count": 5,
     "metadata": {},
     "output_type": "execute_result"
    }
   ],
   "source": [
    "# Explore missing values\n",
    "digitalCurrency_df.isnull().sum()"
   ]
  },
  {
   "cell_type": "code",
   "execution_count": 6,
   "id": "a8c25367",
   "metadata": {
    "execution": {
     "iopub.execute_input": "2023-11-20T03:31:11.197988Z",
     "iopub.status.busy": "2023-11-20T03:31:11.196989Z",
     "iopub.status.idle": "2023-11-20T03:31:11.315244Z",
     "shell.execute_reply": "2023-11-20T03:31:11.314279Z",
     "shell.execute_reply.started": "2023-11-20T03:31:11.197988Z"
    },
    "tags": []
   },
   "outputs": [
    {
     "data": {
      "text/html": [
       "<div>\n",
       "<style scoped>\n",
       "    .dataframe tbody tr th:only-of-type {\n",
       "        vertical-align: middle;\n",
       "    }\n",
       "\n",
       "    .dataframe tbody tr th {\n",
       "        vertical-align: top;\n",
       "    }\n",
       "\n",
       "    .dataframe thead th {\n",
       "        text-align: right;\n",
       "    }\n",
       "</style>\n",
       "<table border=\"1\" class=\"dataframe\">\n",
       "  <thead>\n",
       "    <tr style=\"text-align: right;\">\n",
       "      <th></th>\n",
       "      <th>open_SAR</th>\n",
       "      <th>open_USD</th>\n",
       "      <th>high_SAR</th>\n",
       "      <th>high_USD</th>\n",
       "      <th>low_SAR</th>\n",
       "      <th>low_USD</th>\n",
       "      <th>close_SAR</th>\n",
       "      <th>close_USD</th>\n",
       "      <th>volume</th>\n",
       "    </tr>\n",
       "  </thead>\n",
       "  <tbody>\n",
       "    <tr>\n",
       "      <th>count</th>\n",
       "      <td>1000.000000</td>\n",
       "      <td>1000.000000</td>\n",
       "      <td>1000.000000</td>\n",
       "      <td>1000.000000</td>\n",
       "      <td>1000.000000</td>\n",
       "      <td>1000.000000</td>\n",
       "      <td>1000.000000</td>\n",
       "      <td>1000.000000</td>\n",
       "      <td>1000.000000</td>\n",
       "    </tr>\n",
       "    <tr>\n",
       "      <th>mean</th>\n",
       "      <td>34825.322255</td>\n",
       "      <td>9285.762120</td>\n",
       "      <td>35789.618165</td>\n",
       "      <td>9542.880270</td>\n",
       "      <td>33796.329057</td>\n",
       "      <td>9011.393200</td>\n",
       "      <td>34917.483572</td>\n",
       "      <td>9310.335850</td>\n",
       "      <td>53100.498000</td>\n",
       "    </tr>\n",
       "    <tr>\n",
       "      <th>std</th>\n",
       "      <td>21728.028028</td>\n",
       "      <td>5793.522832</td>\n",
       "      <td>22785.946842</td>\n",
       "      <td>6075.604427</td>\n",
       "      <td>20565.410145</td>\n",
       "      <td>5483.524463</td>\n",
       "      <td>21928.280072</td>\n",
       "      <td>5846.917681</td>\n",
       "      <td>35329.832031</td>\n",
       "    </tr>\n",
       "    <tr>\n",
       "      <th>min</th>\n",
       "      <td>12045.197184</td>\n",
       "      <td>3211.710000</td>\n",
       "      <td>12288.185600</td>\n",
       "      <td>3276.500000</td>\n",
       "      <td>11837.237504</td>\n",
       "      <td>3156.260000</td>\n",
       "      <td>12045.234688</td>\n",
       "      <td>3211.720000</td>\n",
       "      <td>5743.000000</td>\n",
       "    </tr>\n",
       "    <tr>\n",
       "      <th>25%</th>\n",
       "      <td>24254.558752</td>\n",
       "      <td>6467.192500</td>\n",
       "      <td>24686.089152</td>\n",
       "      <td>6582.255000</td>\n",
       "      <td>23721.336256</td>\n",
       "      <td>6325.015000</td>\n",
       "      <td>24252.946080</td>\n",
       "      <td>6466.762500</td>\n",
       "      <td>30045.750000</td>\n",
       "    </tr>\n",
       "    <tr>\n",
       "      <th>50%</th>\n",
       "      <td>30714.632128</td>\n",
       "      <td>8189.695000</td>\n",
       "      <td>31321.953152</td>\n",
       "      <td>8351.630000</td>\n",
       "      <td>30010.869568</td>\n",
       "      <td>8002.045000</td>\n",
       "      <td>30713.263232</td>\n",
       "      <td>8189.330000</td>\n",
       "      <td>43795.500000</td>\n",
       "    </tr>\n",
       "    <tr>\n",
       "      <th>75%</th>\n",
       "      <td>38317.311744</td>\n",
       "      <td>10216.860000</td>\n",
       "      <td>39077.527200</td>\n",
       "      <td>10419.562500</td>\n",
       "      <td>37158.878816</td>\n",
       "      <td>9907.977500</td>\n",
       "      <td>38329.725568</td>\n",
       "      <td>10220.170000</td>\n",
       "      <td>64909.250000</td>\n",
       "    </tr>\n",
       "    <tr>\n",
       "      <th>max</th>\n",
       "      <td>152217.334784</td>\n",
       "      <td>40586.960000</td>\n",
       "      <td>157329.280000</td>\n",
       "      <td>41950.000000</td>\n",
       "      <td>145215.488000</td>\n",
       "      <td>38720.000000</td>\n",
       "      <td>152201.770624</td>\n",
       "      <td>40582.810000</td>\n",
       "      <td>402201.000000</td>\n",
       "    </tr>\n",
       "  </tbody>\n",
       "</table>\n",
       "</div>"
      ],
      "text/plain": [
       "            open_SAR      open_USD       high_SAR      high_USD  \\\n",
       "count    1000.000000   1000.000000    1000.000000   1000.000000   \n",
       "mean    34825.322255   9285.762120   35789.618165   9542.880270   \n",
       "std     21728.028028   5793.522832   22785.946842   6075.604427   \n",
       "min     12045.197184   3211.710000   12288.185600   3276.500000   \n",
       "25%     24254.558752   6467.192500   24686.089152   6582.255000   \n",
       "50%     30714.632128   8189.695000   31321.953152   8351.630000   \n",
       "75%     38317.311744  10216.860000   39077.527200  10419.562500   \n",
       "max    152217.334784  40586.960000  157329.280000  41950.000000   \n",
       "\n",
       "             low_SAR       low_USD      close_SAR     close_USD         volume  \n",
       "count    1000.000000   1000.000000    1000.000000   1000.000000    1000.000000  \n",
       "mean    33796.329057   9011.393200   34917.483572   9310.335850   53100.498000  \n",
       "std     20565.410145   5483.524463   21928.280072   5846.917681   35329.832031  \n",
       "min     11837.237504   3156.260000   12045.234688   3211.720000    5743.000000  \n",
       "25%     23721.336256   6325.015000   24252.946080   6466.762500   30045.750000  \n",
       "50%     30010.869568   8002.045000   30713.263232   8189.330000   43795.500000  \n",
       "75%     37158.878816   9907.977500   38329.725568  10220.170000   64909.250000  \n",
       "max    145215.488000  38720.000000  152201.770624  40582.810000  402201.000000  "
      ]
     },
     "execution_count": 6,
     "metadata": {},
     "output_type": "execute_result"
    }
   ],
   "source": [
    "# Explore descriptive statistics \n",
    "digitalCurrency_df.describe()"
   ]
  },
  {
   "cell_type": "code",
   "execution_count": 7,
   "id": "c47d5bb4",
   "metadata": {
    "execution": {
     "iopub.execute_input": "2023-11-20T03:31:11.423295Z",
     "iopub.status.busy": "2023-11-20T03:31:11.421791Z",
     "iopub.status.idle": "2023-11-20T03:31:11.517923Z",
     "shell.execute_reply": "2023-11-20T03:31:11.516960Z",
     "shell.execute_reply.started": "2023-11-20T03:31:11.423295Z"
    },
    "tags": []
   },
   "outputs": [
    {
     "data": {
      "text/html": [
       "<div>\n",
       "<style scoped>\n",
       "    .dataframe tbody tr th:only-of-type {\n",
       "        vertical-align: middle;\n",
       "    }\n",
       "\n",
       "    .dataframe tbody tr th {\n",
       "        vertical-align: top;\n",
       "    }\n",
       "\n",
       "    .dataframe thead th {\n",
       "        text-align: right;\n",
       "    }\n",
       "</style>\n",
       "<table border=\"1\" class=\"dataframe\">\n",
       "  <thead>\n",
       "    <tr style=\"text-align: right;\">\n",
       "      <th></th>\n",
       "      <th>Date</th>\n",
       "      <th>open_SAR</th>\n",
       "      <th>open_USD</th>\n",
       "      <th>high_SAR</th>\n",
       "      <th>high_USD</th>\n",
       "      <th>low_SAR</th>\n",
       "      <th>low_USD</th>\n",
       "      <th>close_SAR</th>\n",
       "      <th>close_USD</th>\n",
       "      <th>volume</th>\n",
       "    </tr>\n",
       "  </thead>\n",
       "  <tbody>\n",
       "    <tr>\n",
       "      <th>0</th>\n",
       "      <td>2021-01-30</td>\n",
       "      <td>128437.248512</td>\n",
       "      <td>34246.28</td>\n",
       "      <td>131012.723200</td>\n",
       "      <td>34933.00</td>\n",
       "      <td>123106.880000</td>\n",
       "      <td>32825.00</td>\n",
       "      <td>128333.212416</td>\n",
       "      <td>34218.54</td>\n",
       "      <td>43072</td>\n",
       "    </tr>\n",
       "    <tr>\n",
       "      <th>1</th>\n",
       "      <td>2021-01-29</td>\n",
       "      <td>125144.022272</td>\n",
       "      <td>33368.18</td>\n",
       "      <td>144510.037760</td>\n",
       "      <td>38531.90</td>\n",
       "      <td>119695.516160</td>\n",
       "      <td>31915.40</td>\n",
       "      <td>128459.450880</td>\n",
       "      <td>34252.20</td>\n",
       "      <td>231827</td>\n",
       "    </tr>\n",
       "    <tr>\n",
       "      <th>2</th>\n",
       "      <td>2021-01-28</td>\n",
       "      <td>113870.357376</td>\n",
       "      <td>30362.19</td>\n",
       "      <td>126703.438592</td>\n",
       "      <td>33783.98</td>\n",
       "      <td>111919.811840</td>\n",
       "      <td>29842.10</td>\n",
       "      <td>125131.570944</td>\n",
       "      <td>33364.86</td>\n",
       "      <td>92621</td>\n",
       "    </tr>\n",
       "    <tr>\n",
       "      <th>3</th>\n",
       "      <td>2021-01-27</td>\n",
       "      <td>121753.023104</td>\n",
       "      <td>32464.01</td>\n",
       "      <td>122102.860416</td>\n",
       "      <td>32557.29</td>\n",
       "      <td>109668.146688</td>\n",
       "      <td>29241.72</td>\n",
       "      <td>113885.208960</td>\n",
       "      <td>30366.15</td>\n",
       "      <td>95911</td>\n",
       "    </tr>\n",
       "    <tr>\n",
       "      <th>4</th>\n",
       "      <td>2021-01-26</td>\n",
       "      <td>120966.114176</td>\n",
       "      <td>32254.19</td>\n",
       "      <td>123470.218752</td>\n",
       "      <td>32921.88</td>\n",
       "      <td>115652.472448</td>\n",
       "      <td>30837.37</td>\n",
       "      <td>121767.124608</td>\n",
       "      <td>32467.77</td>\n",
       "      <td>84972</td>\n",
       "    </tr>\n",
       "  </tbody>\n",
       "</table>\n",
       "</div>"
      ],
      "text/plain": [
       "         Date       open_SAR  open_USD       high_SAR  high_USD  \\\n",
       "0  2021-01-30  128437.248512  34246.28  131012.723200  34933.00   \n",
       "1  2021-01-29  125144.022272  33368.18  144510.037760  38531.90   \n",
       "2  2021-01-28  113870.357376  30362.19  126703.438592  33783.98   \n",
       "3  2021-01-27  121753.023104  32464.01  122102.860416  32557.29   \n",
       "4  2021-01-26  120966.114176  32254.19  123470.218752  32921.88   \n",
       "\n",
       "         low_SAR   low_USD      close_SAR  close_USD  volume  \n",
       "0  123106.880000  32825.00  128333.212416   34218.54   43072  \n",
       "1  119695.516160  31915.40  128459.450880   34252.20  231827  \n",
       "2  111919.811840  29842.10  125131.570944   33364.86   92621  \n",
       "3  109668.146688  29241.72  113885.208960   30366.15   95911  \n",
       "4  115652.472448  30837.37  121767.124608   32467.77   84972  "
      ]
     },
     "execution_count": 7,
     "metadata": {},
     "output_type": "execute_result"
    }
   ],
   "source": [
    "# Rename the column with no name to 'Date'\n",
    "digitalCurrency_df = digitalCurrency_df.rename(columns={digitalCurrency_df.columns[0]: 'Date'})\n",
    "digitalCurrency_df.head()"
   ]
  },
  {
   "cell_type": "code",
   "execution_count": 8,
   "id": "65b9d86f",
   "metadata": {
    "execution": {
     "iopub.execute_input": "2023-11-20T03:31:11.955705Z",
     "iopub.status.busy": "2023-11-20T03:31:11.954741Z",
     "iopub.status.idle": "2023-11-20T03:31:12.050157Z",
     "shell.execute_reply": "2023-11-20T03:31:12.049182Z",
     "shell.execute_reply.started": "2023-11-20T03:31:11.955705Z"
    },
    "tags": []
   },
   "outputs": [
    {
     "data": {
      "text/html": [
       "<div>\n",
       "<style scoped>\n",
       "    .dataframe tbody tr th:only-of-type {\n",
       "        vertical-align: middle;\n",
       "    }\n",
       "\n",
       "    .dataframe tbody tr th {\n",
       "        vertical-align: top;\n",
       "    }\n",
       "\n",
       "    .dataframe thead th {\n",
       "        text-align: right;\n",
       "    }\n",
       "</style>\n",
       "<table border=\"1\" class=\"dataframe\">\n",
       "  <thead>\n",
       "    <tr style=\"text-align: right;\">\n",
       "      <th></th>\n",
       "      <th>Date</th>\n",
       "      <th>open_SAR</th>\n",
       "      <th>open_USD</th>\n",
       "      <th>high_SAR</th>\n",
       "      <th>high_USD</th>\n",
       "      <th>low_SAR</th>\n",
       "      <th>low_USD</th>\n",
       "      <th>close_SAR</th>\n",
       "      <th>close_USD</th>\n",
       "      <th>volume</th>\n",
       "    </tr>\n",
       "  </thead>\n",
       "  <tbody>\n",
       "    <tr>\n",
       "      <th>0</th>\n",
       "      <td>2021-01-30</td>\n",
       "      <td>128437.248512</td>\n",
       "      <td>34246.28</td>\n",
       "      <td>131012.723200</td>\n",
       "      <td>34933.00</td>\n",
       "      <td>123106.880000</td>\n",
       "      <td>32825.00</td>\n",
       "      <td>128333.212416</td>\n",
       "      <td>34218.54</td>\n",
       "      <td>43072</td>\n",
       "    </tr>\n",
       "    <tr>\n",
       "      <th>1</th>\n",
       "      <td>2021-01-29</td>\n",
       "      <td>125144.022272</td>\n",
       "      <td>33368.18</td>\n",
       "      <td>144510.037760</td>\n",
       "      <td>38531.90</td>\n",
       "      <td>119695.516160</td>\n",
       "      <td>31915.40</td>\n",
       "      <td>128459.450880</td>\n",
       "      <td>34252.20</td>\n",
       "      <td>231827</td>\n",
       "    </tr>\n",
       "    <tr>\n",
       "      <th>2</th>\n",
       "      <td>2021-01-28</td>\n",
       "      <td>113870.357376</td>\n",
       "      <td>30362.19</td>\n",
       "      <td>126703.438592</td>\n",
       "      <td>33783.98</td>\n",
       "      <td>111919.811840</td>\n",
       "      <td>29842.10</td>\n",
       "      <td>125131.570944</td>\n",
       "      <td>33364.86</td>\n",
       "      <td>92621</td>\n",
       "    </tr>\n",
       "    <tr>\n",
       "      <th>3</th>\n",
       "      <td>2021-01-27</td>\n",
       "      <td>121753.023104</td>\n",
       "      <td>32464.01</td>\n",
       "      <td>122102.860416</td>\n",
       "      <td>32557.29</td>\n",
       "      <td>109668.146688</td>\n",
       "      <td>29241.72</td>\n",
       "      <td>113885.208960</td>\n",
       "      <td>30366.15</td>\n",
       "      <td>95911</td>\n",
       "    </tr>\n",
       "    <tr>\n",
       "      <th>4</th>\n",
       "      <td>2021-01-26</td>\n",
       "      <td>120966.114176</td>\n",
       "      <td>32254.19</td>\n",
       "      <td>123470.218752</td>\n",
       "      <td>32921.88</td>\n",
       "      <td>115652.472448</td>\n",
       "      <td>30837.37</td>\n",
       "      <td>121767.124608</td>\n",
       "      <td>32467.77</td>\n",
       "      <td>84972</td>\n",
       "    </tr>\n",
       "  </tbody>\n",
       "</table>\n",
       "</div>"
      ],
      "text/plain": [
       "        Date       open_SAR  open_USD       high_SAR  high_USD        low_SAR  \\\n",
       "0 2021-01-30  128437.248512  34246.28  131012.723200  34933.00  123106.880000   \n",
       "1 2021-01-29  125144.022272  33368.18  144510.037760  38531.90  119695.516160   \n",
       "2 2021-01-28  113870.357376  30362.19  126703.438592  33783.98  111919.811840   \n",
       "3 2021-01-27  121753.023104  32464.01  122102.860416  32557.29  109668.146688   \n",
       "4 2021-01-26  120966.114176  32254.19  123470.218752  32921.88  115652.472448   \n",
       "\n",
       "    low_USD      close_SAR  close_USD  volume  \n",
       "0  32825.00  128333.212416   34218.54   43072  \n",
       "1  31915.40  128459.450880   34252.20  231827  \n",
       "2  29842.10  125131.570944   33364.86   92621  \n",
       "3  29241.72  113885.208960   30366.15   95911  \n",
       "4  30837.37  121767.124608   32467.77   84972  "
      ]
     },
     "execution_count": 8,
     "metadata": {},
     "output_type": "execute_result"
    }
   ],
   "source": [
    "# Convert 'Date' column from object to datetime format\n",
    "digitalCurrency_df['Date'] = pd.to_datetime(digitalCurrency_df['Date'])\n",
    "digitalCurrency_df.head()"
   ]
  },
  {
   "cell_type": "code",
   "execution_count": 14,
   "id": "947901be",
   "metadata": {
    "execution": {
     "iopub.execute_input": "2023-11-20T03:32:21.370334Z",
     "iopub.status.busy": "2023-11-20T03:32:21.370334Z",
     "iopub.status.idle": "2023-11-20T03:32:21.485508Z",
     "shell.execute_reply": "2023-11-20T03:32:21.484531Z",
     "shell.execute_reply.started": "2023-11-20T03:32:21.370334Z"
    },
    "tags": []
   },
   "outputs": [
    {
     "name": "stdout",
     "output_type": "stream",
     "text": [
      "treasury_rates_df\n",
      "federal_funds_df\n",
      "oil_wti_df\n",
      "oil_brent_df\n",
      "djia_df\n",
      "uncertainty_index_df\n",
      "inflation_rate_df\n"
     ]
    }
   ],
   "source": [
    "# List of file names with corresponding short names\n",
    "file_info = {\n",
    "    \"daily-treasury-rates - 2018-2021.csv\": \"treasury_rates_df\",\n",
    "    \"Daily Federal Funds Rate from 2018-2021.csv\": \"federal_funds_df\",\n",
    "    \"Crude Oil WTI Futures Historical Data - 2018-2021.csv\": \"oil_wti_df\",\n",
    "    \"Crude Oil Prices Brent - Europe - 2018-2021.csv\": \"oil_brent_df\",\n",
    "    \"Dow Jones Industrial Average-DJIA - 2018-2021.csv\": \"djia_df\",\n",
    "    \"Economic Policy Uncertainty Index for United States - 2018-2021.csv\": \"uncertainty_index_df\",\n",
    "    \"5-Year Breakeven Inflation Rate - 2018-2021.csv\": \"inflation_rate_df\"\n",
    "}\n",
    "\n",
    "# Folder path\n",
    "folder_path = \"C:\\MIDS\\ADS-506-Applied_Time_Series_Analysis\\Bitcoin_time_series_analysis_and_forecast\\data\"  \n",
    "\n",
    "# Read each file into a separate DataFrame with short names\n",
    "dataframes = {}\n",
    "for file_name, short_name in file_info.items():\n",
    "    file_path = os.path.join(folder_path, file_name)\n",
    "    dataframes[short_name] = pd.read_csv(file_path)\n",
    "    \n",
    "for name in dataframes:\n",
    "    print(name)"
   ]
  },
  {
   "cell_type": "code",
   "execution_count": 16,
   "id": "8750d3ae",
   "metadata": {
    "execution": {
     "iopub.execute_input": "2023-11-20T03:33:08.612001Z",
     "iopub.status.busy": "2023-11-20T03:33:08.610999Z",
     "iopub.status.idle": "2023-11-20T03:33:08.704661Z",
     "shell.execute_reply": "2023-11-20T03:33:08.702660Z",
     "shell.execute_reply.started": "2023-11-20T03:33:08.612001Z"
    },
    "tags": []
   },
   "outputs": [
    {
     "ename": "NameError",
     "evalue": "name 'treasury_rates_df' is not defined",
     "output_type": "error",
     "traceback": [
      "\u001b[1;31m---------------------------------------------------------------------------\u001b[0m",
      "\u001b[1;31mNameError\u001b[0m                                 Traceback (most recent call last)",
      "Cell \u001b[1;32mIn[16], line 1\u001b[0m\n\u001b[1;32m----> 1\u001b[0m \u001b[43mtreasury_rates_df\u001b[49m\u001b[38;5;241m.\u001b[39mhead()\n",
      "\u001b[1;31mNameError\u001b[0m: name 'treasury_rates_df' is not defined"
     ]
    }
   ],
   "source": [
    "treasury_rates_df.head()"
   ]
  },
  {
   "cell_type": "code",
   "execution_count": null,
   "id": "90513103-4243-4cfb-8547-6c722a6fae9b",
   "metadata": {},
   "outputs": [],
   "source": []
  }
 ],
 "metadata": {
  "kernelspec": {
   "display_name": "Python 3 (ipykernel)",
   "language": "python",
   "name": "python3"
  },
  "language_info": {
   "codemirror_mode": {
    "name": "ipython",
    "version": 3
   },
   "file_extension": ".py",
   "mimetype": "text/x-python",
   "name": "python",
   "nbconvert_exporter": "python",
   "pygments_lexer": "ipython3",
   "version": "3.10.10"
  }
 },
 "nbformat": 4,
 "nbformat_minor": 5
}
