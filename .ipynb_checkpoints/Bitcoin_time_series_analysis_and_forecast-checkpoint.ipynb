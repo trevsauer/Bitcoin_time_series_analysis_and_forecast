{
 "cells": [
  {
   "cell_type": "code",
   "execution_count": 1,
   "id": "749db96e",
   "metadata": {},
   "outputs": [],
   "source": [
    "# Import Packages\n",
    "import numpy as np\n",
    "import pandas as pd"
   ]
  },
  {
   "cell_type": "code",
   "execution_count": 2,
   "id": "61e4e323",
   "metadata": {},
   "outputs": [
    {
     "data": {
      "text/html": [
       "<div>\n",
       "<style scoped>\n",
       "    .dataframe tbody tr th:only-of-type {\n",
       "        vertical-align: middle;\n",
       "    }\n",
       "\n",
       "    .dataframe tbody tr th {\n",
       "        vertical-align: top;\n",
       "    }\n",
       "\n",
       "    .dataframe thead th {\n",
       "        text-align: right;\n",
       "    }\n",
       "</style>\n",
       "<table border=\"1\" class=\"dataframe\">\n",
       "  <thead>\n",
       "    <tr style=\"text-align: right;\">\n",
       "      <th></th>\n",
       "      <th>Unnamed: 0</th>\n",
       "      <th>open_SAR</th>\n",
       "      <th>open_USD</th>\n",
       "      <th>high_SAR</th>\n",
       "      <th>high_USD</th>\n",
       "      <th>low_SAR</th>\n",
       "      <th>low_USD</th>\n",
       "      <th>close_SAR</th>\n",
       "      <th>close_USD</th>\n",
       "      <th>volume</th>\n",
       "    </tr>\n",
       "  </thead>\n",
       "  <tbody>\n",
       "    <tr>\n",
       "      <th>0</th>\n",
       "      <td>2021-01-30</td>\n",
       "      <td>128437.248512</td>\n",
       "      <td>34246.28</td>\n",
       "      <td>131012.723200</td>\n",
       "      <td>34933.00</td>\n",
       "      <td>123106.880000</td>\n",
       "      <td>32825.00</td>\n",
       "      <td>128333.212416</td>\n",
       "      <td>34218.54</td>\n",
       "      <td>43072</td>\n",
       "    </tr>\n",
       "    <tr>\n",
       "      <th>1</th>\n",
       "      <td>2021-01-29</td>\n",
       "      <td>125144.022272</td>\n",
       "      <td>33368.18</td>\n",
       "      <td>144510.037760</td>\n",
       "      <td>38531.90</td>\n",
       "      <td>119695.516160</td>\n",
       "      <td>31915.40</td>\n",
       "      <td>128459.450880</td>\n",
       "      <td>34252.20</td>\n",
       "      <td>231827</td>\n",
       "    </tr>\n",
       "    <tr>\n",
       "      <th>2</th>\n",
       "      <td>2021-01-28</td>\n",
       "      <td>113870.357376</td>\n",
       "      <td>30362.19</td>\n",
       "      <td>126703.438592</td>\n",
       "      <td>33783.98</td>\n",
       "      <td>111919.811840</td>\n",
       "      <td>29842.10</td>\n",
       "      <td>125131.570944</td>\n",
       "      <td>33364.86</td>\n",
       "      <td>92621</td>\n",
       "    </tr>\n",
       "    <tr>\n",
       "      <th>3</th>\n",
       "      <td>2021-01-27</td>\n",
       "      <td>121753.023104</td>\n",
       "      <td>32464.01</td>\n",
       "      <td>122102.860416</td>\n",
       "      <td>32557.29</td>\n",
       "      <td>109668.146688</td>\n",
       "      <td>29241.72</td>\n",
       "      <td>113885.208960</td>\n",
       "      <td>30366.15</td>\n",
       "      <td>95911</td>\n",
       "    </tr>\n",
       "    <tr>\n",
       "      <th>4</th>\n",
       "      <td>2021-01-26</td>\n",
       "      <td>120966.114176</td>\n",
       "      <td>32254.19</td>\n",
       "      <td>123470.218752</td>\n",
       "      <td>32921.88</td>\n",
       "      <td>115652.472448</td>\n",
       "      <td>30837.37</td>\n",
       "      <td>121767.124608</td>\n",
       "      <td>32467.77</td>\n",
       "      <td>84972</td>\n",
       "    </tr>\n",
       "  </tbody>\n",
       "</table>\n",
       "</div>"
      ],
      "text/plain": [
       "   Unnamed: 0       open_SAR  open_USD       high_SAR  high_USD  \\\n",
       "0  2021-01-30  128437.248512  34246.28  131012.723200  34933.00   \n",
       "1  2021-01-29  125144.022272  33368.18  144510.037760  38531.90   \n",
       "2  2021-01-28  113870.357376  30362.19  126703.438592  33783.98   \n",
       "3  2021-01-27  121753.023104  32464.01  122102.860416  32557.29   \n",
       "4  2021-01-26  120966.114176  32254.19  123470.218752  32921.88   \n",
       "\n",
       "         low_SAR   low_USD      close_SAR  close_USD  volume  \n",
       "0  123106.880000  32825.00  128333.212416   34218.54   43072  \n",
       "1  119695.516160  31915.40  128459.450880   34252.20  231827  \n",
       "2  111919.811840  29842.10  125131.570944   33364.86   92621  \n",
       "3  109668.146688  29241.72  113885.208960   30366.15   95911  \n",
       "4  115652.472448  30837.37  121767.124608   32467.77   84972  "
      ]
     },
     "execution_count": 2,
     "metadata": {},
     "output_type": "execute_result"
    }
   ],
   "source": [
    "# Read CSV\n",
    "digitalCurrency_df = pd.read_csv(\"Digital_Currency.csv\")\n",
    "digitalCurrency_df.head()"
   ]
  },
  {
   "cell_type": "code",
   "execution_count": 3,
   "id": "4ca7ed23",
   "metadata": {},
   "outputs": [
    {
     "name": "stdout",
     "output_type": "stream",
     "text": [
      "<class 'pandas.core.frame.DataFrame'>\n",
      "RangeIndex: 1000 entries, 0 to 999\n",
      "Data columns (total 10 columns):\n",
      " #   Column      Non-Null Count  Dtype  \n",
      "---  ------      --------------  -----  \n",
      " 0   Unnamed: 0  1000 non-null   object \n",
      " 1   open_SAR    1000 non-null   float64\n",
      " 2   open_USD    1000 non-null   float64\n",
      " 3   high_SAR    1000 non-null   float64\n",
      " 4   high_USD    1000 non-null   float64\n",
      " 5   low_SAR     1000 non-null   float64\n",
      " 6   low_USD     1000 non-null   float64\n",
      " 7   close_SAR   1000 non-null   float64\n",
      " 8   close_USD   1000 non-null   float64\n",
      " 9   volume      1000 non-null   int64  \n",
      "dtypes: float64(8), int64(1), object(1)\n",
      "memory usage: 78.3+ KB\n"
     ]
    }
   ],
   "source": [
    "digitalCurrency_df.info()"
   ]
  },
  {
   "cell_type": "code",
   "execution_count": null,
   "id": "9eeaf49c",
   "metadata": {},
   "outputs": [],
   "source": []
  }
 ],
 "metadata": {
  "kernelspec": {
   "display_name": "Python 3 (ipykernel)",
   "language": "python",
   "name": "python3"
  },
  "language_info": {
   "codemirror_mode": {
    "name": "ipython",
    "version": 3
   },
   "file_extension": ".py",
   "mimetype": "text/x-python",
   "name": "python",
   "nbconvert_exporter": "python",
   "pygments_lexer": "ipython3",
   "version": "3.11.5"
  }
 },
 "nbformat": 4,
 "nbformat_minor": 5
}
