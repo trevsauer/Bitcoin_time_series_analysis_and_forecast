{
 "cells": [
  {
   "cell_type": "code",
   "execution_count": 25,
   "id": "749db96e",
   "metadata": {
    "execution": {
     "iopub.execute_input": "2023-11-20T03:54:30.902623Z",
     "iopub.status.busy": "2023-11-20T03:54:30.902623Z",
     "iopub.status.idle": "2023-11-20T03:54:31.062299Z",
     "shell.execute_reply": "2023-11-20T03:54:31.061300Z",
     "shell.execute_reply.started": "2023-11-20T03:54:30.902623Z"
    },
    "tags": []
   },
   "outputs": [],
   "source": [
    "# Import Packages\n",
    "import numpy as np\n",
    "import pandas as pd\n",
    "import os\n",
    "import warnings\n",
    "warnings.filterwarnings(\"ignore\")"
   ]
  },
  {
   "cell_type": "code",
   "execution_count": 64,
   "id": "61e4e323",
   "metadata": {
    "execution": {
     "iopub.execute_input": "2023-11-20T04:23:07.460678Z",
     "iopub.status.busy": "2023-11-20T04:23:07.460678Z",
     "iopub.status.idle": "2023-11-20T04:23:07.646282Z",
     "shell.execute_reply": "2023-11-20T04:23:07.644928Z",
     "shell.execute_reply.started": "2023-11-20T04:23:07.460678Z"
    },
    "tags": []
   },
   "outputs": [
    {
     "name": "stdout",
     "output_type": "stream",
     "text": [
      "Date\n",
      "T5YIE\n",
      "DCOILBRENTEU\n",
      "Price\n",
      "Open\n",
      "High\n",
      "Low\n",
      "Vol.\n",
      "Change %\n",
      "DFF\n",
      "4 WEEKS BANK DISCOUNT\n",
      "4 WEEKS COUPON EQUIVALENT\n",
      "8 WEEKS BANK DISCOUNT\n",
      "8 WEEKS COUPON EQUIVALENT\n",
      "13 WEEKS BANK DISCOUNT\n",
      "13 WEEKS COUPON EQUIVALENT\n",
      "26 WEEKS BANK DISCOUNT\n",
      "26 WEEKS COUPON EQUIVALENT\n",
      "52 WEEKS BANK DISCOUNT\n",
      "52 WEEKS COUPON EQUIVALENT\n",
      "open_SAR\n",
      "open_USD\n",
      "high_SAR\n",
      "high_USD\n",
      "low_SAR\n",
      "low_USD\n",
      "close_SAR\n",
      "close_USD\n",
      "volume\n",
      "DJIA\n",
      "USEPUINDXD\n"
     ]
    }
   ],
   "source": [
    "# Folder path\n",
    "folder_path = r'C:\\MIDS\\ADS-506-Applied_Time_Series_Analysis\\Bitcoin_time_series_analysis_and_forecast\\data'\n",
    "\n",
    "# Get a list of all CSV files in the folder\n",
    "csv_files = [f for f in os.listdir(folder_path) if f.endswith('.csv')]\n",
    "\n",
    "# Create a dictionary to store DataFrames\n",
    "dataframes = {}\n",
    "\n",
    "# Read each CSV file into a DataFrame and store it in the dictionary\n",
    "for csv_file in csv_files:\n",
    "    file_name = os.path.basename(csv_file)  # Extract the file name from the path\n",
    "    short_name = os.path.splitext(file_name)[0]  # Remove the file extension\n",
    "    df = pd.read_csv(os.path.join(folder_path, csv_file))\n",
    "    dataframes[short_name] = df\n",
    "\n",
    "# Rename and create new DataFrames with shorter names\n",
    "inflation_df = dataframes['5-Year Breakeven Inflation Rate - 2018-2021']\n",
    "brent_oil_df = dataframes['Crude Oil Prices Brent - Europe - 2018-2021']\n",
    "wti_oil_df = dataframes['Crude Oil WTI Futures Historical Data - 2018-2021']\n",
    "federal_funds_df = dataframes['Daily Federal Funds Rate from 2018-2021']\n",
    "treasury_rates_df = dataframes['daily-treasury-rates - 2018-2021']\n",
    "crypto_df = dataframes['Digital_Currency']\n",
    "djia_df = dataframes['Dow Jones Industrial Average-DJIA - 2018-2021']\n",
    "uncertainty_df = dataframes['Economic Policy Uncertainty Index for United States - 2018-2021']\n",
    "\n",
    "# Convert date columns to datetime format for each DataFrame\n",
    "inflation_df['DATE'] = pd.to_datetime(inflation_df['DATE'])\n",
    "brent_oil_df['DATE'] = pd.to_datetime(brent_oil_df['DATE'])\n",
    "wti_oil_df['Date'] = pd.to_datetime(wti_oil_df['Date'])\n",
    "federal_funds_df['DATE'] = pd.to_datetime(federal_funds_df['DATE'])\n",
    "treasury_rates_df['Date'] = pd.to_datetime(treasury_rates_df['Date'])\n",
    "crypto_df['Unnamed: 0'] = pd.to_datetime(crypto_df['Unnamed: 0'])\n",
    "djia_df['DATE'] = pd.to_datetime(djia_df['DATE'])\n",
    "uncertainty_df['DATE'] = pd.to_datetime(uncertainty_df['DATE'])\n",
    "\n",
    "# Rename all date columns to \"Date\" in all DataFrames\n",
    "inflation_df.rename(columns={'DATE': 'Date'}, inplace=True)\n",
    "brent_oil_df.rename(columns={'DATE': 'Date'}, inplace=True)\n",
    "wti_oil_df.rename(columns={'Date': 'Date'}, inplace=True)\n",
    "federal_funds_df.rename(columns={'DATE': 'Date'}, inplace=True)\n",
    "treasury_rates_df.rename(columns={'Date': 'Date'}, inplace=True)\n",
    "crypto_df.rename(columns={'Unnamed: 0': 'Date'}, inplace=True)\n",
    "djia_df.rename(columns={'DATE': 'Date'}, inplace=True)\n",
    "uncertainty_df.rename(columns={'DATE': 'Date'}, inplace=True)\n",
    "\n",
    "# Merge all DataFrames on the 'Date' column\n",
    "merged_df = pd.merge(inflation_df, brent_oil_df, on='Date', how='outer')\n",
    "merged_df = pd.merge(merged_df, wti_oil_df, on='Date', how='outer')\n",
    "merged_df = pd.merge(merged_df, federal_funds_df, on='Date', how='outer')\n",
    "merged_df = pd.merge(merged_df, treasury_rates_df, on='Date', how='outer')\n",
    "merged_df = pd.merge(merged_df, crypto_df, on='Date', how='outer')\n",
    "merged_df = pd.merge(merged_df, djia_df, on='Date', how='outer')\n",
    "merged_df = pd.merge(merged_df, uncertainty_df, on='Date', how='outer')\n",
    "\n",
    "# Sort the DataFrame by the 'Date' column\n",
    "merged_df.sort_values(by='Date', inplace=True)\n",
    "\n",
    "# Reset the index\n",
    "merged_df.reset_index(drop=True, inplace=True)\n",
    "\n",
    "# Print all columns in the merged DataFrame\n",
    "for col in merged_df.columns:\n",
    "    print(col)"
   ]
  },
  {
   "cell_type": "code",
   "execution_count": 52,
   "id": "19e4ab9c-4b12-4d6c-8038-618ba2a6262b",
   "metadata": {
    "execution": {
     "iopub.execute_input": "2023-11-20T04:10:28.848750Z",
     "iopub.status.busy": "2023-11-20T04:10:28.848750Z",
     "iopub.status.idle": "2023-11-20T04:10:28.986388Z",
     "shell.execute_reply": "2023-11-20T04:10:28.984392Z",
     "shell.execute_reply.started": "2023-11-20T04:10:28.848750Z"
    },
    "tags": []
   },
   "outputs": [
    {
     "data": {
      "text/html": [
       "<div>\n",
       "<style scoped>\n",
       "    .dataframe tbody tr th:only-of-type {\n",
       "        vertical-align: middle;\n",
       "    }\n",
       "\n",
       "    .dataframe tbody tr th {\n",
       "        vertical-align: top;\n",
       "    }\n",
       "\n",
       "    .dataframe thead th {\n",
       "        text-align: right;\n",
       "    }\n",
       "</style>\n",
       "<table border=\"1\" class=\"dataframe\">\n",
       "  <thead>\n",
       "    <tr style=\"text-align: right;\">\n",
       "      <th></th>\n",
       "      <th>Date</th>\n",
       "      <th>T5YIE</th>\n",
       "    </tr>\n",
       "  </thead>\n",
       "  <tbody>\n",
       "    <tr>\n",
       "      <th>0</th>\n",
       "      <td>2018-05-07</td>\n",
       "      <td>2.11</td>\n",
       "    </tr>\n",
       "  </tbody>\n",
       "</table>\n",
       "</div>"
      ],
      "text/plain": [
       "        Date T5YIE\n",
       "0 2018-05-07  2.11"
      ]
     },
     "execution_count": 52,
     "metadata": {},
     "output_type": "execute_result"
    }
   ],
   "source": [
    "inflation_df.head(1)"
   ]
  },
  {
   "cell_type": "code",
   "execution_count": 53,
   "id": "fec2ec6e-bc54-4458-9538-0681c45bd913",
   "metadata": {
    "execution": {
     "iopub.execute_input": "2023-11-20T04:10:29.037100Z",
     "iopub.status.busy": "2023-11-20T04:10:29.036565Z",
     "iopub.status.idle": "2023-11-20T04:10:29.187646Z",
     "shell.execute_reply": "2023-11-20T04:10:29.185576Z",
     "shell.execute_reply.started": "2023-11-20T04:10:29.037100Z"
    },
    "tags": []
   },
   "outputs": [
    {
     "data": {
      "text/html": [
       "<div>\n",
       "<style scoped>\n",
       "    .dataframe tbody tr th:only-of-type {\n",
       "        vertical-align: middle;\n",
       "    }\n",
       "\n",
       "    .dataframe tbody tr th {\n",
       "        vertical-align: top;\n",
       "    }\n",
       "\n",
       "    .dataframe thead th {\n",
       "        text-align: right;\n",
       "    }\n",
       "</style>\n",
       "<table border=\"1\" class=\"dataframe\">\n",
       "  <thead>\n",
       "    <tr style=\"text-align: right;\">\n",
       "      <th></th>\n",
       "      <th>Date</th>\n",
       "      <th>DCOILBRENTEU</th>\n",
       "    </tr>\n",
       "  </thead>\n",
       "  <tbody>\n",
       "    <tr>\n",
       "      <th>0</th>\n",
       "      <td>2018-05-08</td>\n",
       "      <td>74.16</td>\n",
       "    </tr>\n",
       "  </tbody>\n",
       "</table>\n",
       "</div>"
      ],
      "text/plain": [
       "        Date DCOILBRENTEU\n",
       "0 2018-05-08        74.16"
      ]
     },
     "execution_count": 53,
     "metadata": {},
     "output_type": "execute_result"
    }
   ],
   "source": [
    "brent_oil_df.head(1)"
   ]
  },
  {
   "cell_type": "code",
   "execution_count": 54,
   "id": "0f625d50-6d65-4097-b75c-ae6c34293cc5",
   "metadata": {
    "execution": {
     "iopub.execute_input": "2023-11-20T04:10:29.357690Z",
     "iopub.status.busy": "2023-11-20T04:10:29.356610Z",
     "iopub.status.idle": "2023-11-20T04:10:29.499199Z",
     "shell.execute_reply": "2023-11-20T04:10:29.497281Z",
     "shell.execute_reply.started": "2023-11-20T04:10:29.357690Z"
    },
    "tags": []
   },
   "outputs": [
    {
     "data": {
      "text/html": [
       "<div>\n",
       "<style scoped>\n",
       "    .dataframe tbody tr th:only-of-type {\n",
       "        vertical-align: middle;\n",
       "    }\n",
       "\n",
       "    .dataframe tbody tr th {\n",
       "        vertical-align: top;\n",
       "    }\n",
       "\n",
       "    .dataframe thead th {\n",
       "        text-align: right;\n",
       "    }\n",
       "</style>\n",
       "<table border=\"1\" class=\"dataframe\">\n",
       "  <thead>\n",
       "    <tr style=\"text-align: right;\">\n",
       "      <th></th>\n",
       "      <th>Date</th>\n",
       "      <th>Price</th>\n",
       "      <th>Open</th>\n",
       "      <th>High</th>\n",
       "      <th>Low</th>\n",
       "      <th>Vol.</th>\n",
       "      <th>Change %</th>\n",
       "    </tr>\n",
       "  </thead>\n",
       "  <tbody>\n",
       "    <tr>\n",
       "      <th>0</th>\n",
       "      <td>2021-01-29</td>\n",
       "      <td>52.2</td>\n",
       "      <td>52.15</td>\n",
       "      <td>53.25</td>\n",
       "      <td>51.93</td>\n",
       "      <td>410.91K</td>\n",
       "      <td>-0.27%</td>\n",
       "    </tr>\n",
       "  </tbody>\n",
       "</table>\n",
       "</div>"
      ],
      "text/plain": [
       "        Date  Price   Open   High    Low     Vol. Change %\n",
       "0 2021-01-29   52.2  52.15  53.25  51.93  410.91K   -0.27%"
      ]
     },
     "execution_count": 54,
     "metadata": {},
     "output_type": "execute_result"
    }
   ],
   "source": [
    "wti_oil_df.head(1)"
   ]
  },
  {
   "cell_type": "code",
   "execution_count": 55,
   "id": "0e25fe23-bb33-4398-bbaa-f619b4d9ead8",
   "metadata": {
    "execution": {
     "iopub.execute_input": "2023-11-20T04:10:29.526362Z",
     "iopub.status.busy": "2023-11-20T04:10:29.525360Z",
     "iopub.status.idle": "2023-11-20T04:10:29.686025Z",
     "shell.execute_reply": "2023-11-20T04:10:29.684022Z",
     "shell.execute_reply.started": "2023-11-20T04:10:29.526362Z"
    },
    "tags": []
   },
   "outputs": [
    {
     "data": {
      "text/html": [
       "<div>\n",
       "<style scoped>\n",
       "    .dataframe tbody tr th:only-of-type {\n",
       "        vertical-align: middle;\n",
       "    }\n",
       "\n",
       "    .dataframe tbody tr th {\n",
       "        vertical-align: top;\n",
       "    }\n",
       "\n",
       "    .dataframe thead th {\n",
       "        text-align: right;\n",
       "    }\n",
       "</style>\n",
       "<table border=\"1\" class=\"dataframe\">\n",
       "  <thead>\n",
       "    <tr style=\"text-align: right;\">\n",
       "      <th></th>\n",
       "      <th>Date</th>\n",
       "      <th>DFF</th>\n",
       "    </tr>\n",
       "  </thead>\n",
       "  <tbody>\n",
       "    <tr>\n",
       "      <th>0</th>\n",
       "      <td>2018-05-07</td>\n",
       "      <td>1.7</td>\n",
       "    </tr>\n",
       "  </tbody>\n",
       "</table>\n",
       "</div>"
      ],
      "text/plain": [
       "        Date  DFF\n",
       "0 2018-05-07  1.7"
      ]
     },
     "execution_count": 55,
     "metadata": {},
     "output_type": "execute_result"
    }
   ],
   "source": [
    "federal_funds_df.head(1)"
   ]
  },
  {
   "cell_type": "code",
   "execution_count": 56,
   "id": "ef745b7d-83ce-4982-8524-cab003e5c065",
   "metadata": {
    "execution": {
     "iopub.execute_input": "2023-11-20T04:10:30.011054Z",
     "iopub.status.busy": "2023-11-20T04:10:30.010054Z",
     "iopub.status.idle": "2023-11-20T04:10:30.163587Z",
     "shell.execute_reply": "2023-11-20T04:10:30.161624Z",
     "shell.execute_reply.started": "2023-11-20T04:10:30.011054Z"
    },
    "tags": []
   },
   "outputs": [
    {
     "data": {
      "text/html": [
       "<div>\n",
       "<style scoped>\n",
       "    .dataframe tbody tr th:only-of-type {\n",
       "        vertical-align: middle;\n",
       "    }\n",
       "\n",
       "    .dataframe tbody tr th {\n",
       "        vertical-align: top;\n",
       "    }\n",
       "\n",
       "    .dataframe thead th {\n",
       "        text-align: right;\n",
       "    }\n",
       "</style>\n",
       "<table border=\"1\" class=\"dataframe\">\n",
       "  <thead>\n",
       "    <tr style=\"text-align: right;\">\n",
       "      <th></th>\n",
       "      <th>Date</th>\n",
       "      <th>4 WEEKS BANK DISCOUNT</th>\n",
       "      <th>4 WEEKS COUPON EQUIVALENT</th>\n",
       "      <th>8 WEEKS BANK DISCOUNT</th>\n",
       "      <th>8 WEEKS COUPON EQUIVALENT</th>\n",
       "      <th>13 WEEKS BANK DISCOUNT</th>\n",
       "      <th>13 WEEKS COUPON EQUIVALENT</th>\n",
       "      <th>26 WEEKS BANK DISCOUNT</th>\n",
       "      <th>26 WEEKS COUPON EQUIVALENT</th>\n",
       "      <th>52 WEEKS BANK DISCOUNT</th>\n",
       "      <th>52 WEEKS COUPON EQUIVALENT</th>\n",
       "    </tr>\n",
       "  </thead>\n",
       "  <tbody>\n",
       "    <tr>\n",
       "      <th>0</th>\n",
       "      <td>2018-01-02</td>\n",
       "      <td>1.27</td>\n",
       "      <td>1.29</td>\n",
       "      <td>NaN</td>\n",
       "      <td>NaN</td>\n",
       "      <td>1.42</td>\n",
       "      <td>1.44</td>\n",
       "      <td>1.58</td>\n",
       "      <td>1.61</td>\n",
       "      <td>1.78</td>\n",
       "      <td>1.83</td>\n",
       "    </tr>\n",
       "  </tbody>\n",
       "</table>\n",
       "</div>"
      ],
      "text/plain": [
       "        Date  4 WEEKS BANK DISCOUNT  4 WEEKS COUPON EQUIVALENT  \\\n",
       "0 2018-01-02                   1.27                       1.29   \n",
       "\n",
       "   8 WEEKS BANK DISCOUNT  8 WEEKS COUPON EQUIVALENT  13 WEEKS BANK DISCOUNT  \\\n",
       "0                    NaN                        NaN                    1.42   \n",
       "\n",
       "   13 WEEKS COUPON EQUIVALENT  26 WEEKS BANK DISCOUNT  \\\n",
       "0                        1.44                    1.58   \n",
       "\n",
       "   26 WEEKS COUPON EQUIVALENT  52 WEEKS BANK DISCOUNT  \\\n",
       "0                        1.61                    1.78   \n",
       "\n",
       "   52 WEEKS COUPON EQUIVALENT  \n",
       "0                        1.83  "
      ]
     },
     "execution_count": 56,
     "metadata": {},
     "output_type": "execute_result"
    }
   ],
   "source": [
    "treasury_rates_df.head(1)"
   ]
  },
  {
   "cell_type": "code",
   "execution_count": 57,
   "id": "5dd3d444-b81b-458a-9983-8d0ef99cd447",
   "metadata": {
    "execution": {
     "iopub.execute_input": "2023-11-20T04:10:30.380317Z",
     "iopub.status.busy": "2023-11-20T04:10:30.378319Z",
     "iopub.status.idle": "2023-11-20T04:10:30.536352Z",
     "shell.execute_reply": "2023-11-20T04:10:30.534355Z",
     "shell.execute_reply.started": "2023-11-20T04:10:30.380317Z"
    },
    "tags": []
   },
   "outputs": [
    {
     "data": {
      "text/html": [
       "<div>\n",
       "<style scoped>\n",
       "    .dataframe tbody tr th:only-of-type {\n",
       "        vertical-align: middle;\n",
       "    }\n",
       "\n",
       "    .dataframe tbody tr th {\n",
       "        vertical-align: top;\n",
       "    }\n",
       "\n",
       "    .dataframe thead th {\n",
       "        text-align: right;\n",
       "    }\n",
       "</style>\n",
       "<table border=\"1\" class=\"dataframe\">\n",
       "  <thead>\n",
       "    <tr style=\"text-align: right;\">\n",
       "      <th></th>\n",
       "      <th>Date</th>\n",
       "      <th>open_SAR</th>\n",
       "      <th>open_USD</th>\n",
       "      <th>high_SAR</th>\n",
       "      <th>high_USD</th>\n",
       "      <th>low_SAR</th>\n",
       "      <th>low_USD</th>\n",
       "      <th>close_SAR</th>\n",
       "      <th>close_USD</th>\n",
       "      <th>volume</th>\n",
       "    </tr>\n",
       "  </thead>\n",
       "  <tbody>\n",
       "    <tr>\n",
       "      <th>0</th>\n",
       "      <td>2021-01-30</td>\n",
       "      <td>128437.248512</td>\n",
       "      <td>34246.28</td>\n",
       "      <td>131012.7232</td>\n",
       "      <td>34933.0</td>\n",
       "      <td>123106.88</td>\n",
       "      <td>32825.0</td>\n",
       "      <td>128333.212416</td>\n",
       "      <td>34218.54</td>\n",
       "      <td>43072</td>\n",
       "    </tr>\n",
       "  </tbody>\n",
       "</table>\n",
       "</div>"
      ],
      "text/plain": [
       "        Date       open_SAR  open_USD     high_SAR  high_USD    low_SAR  \\\n",
       "0 2021-01-30  128437.248512  34246.28  131012.7232   34933.0  123106.88   \n",
       "\n",
       "   low_USD      close_SAR  close_USD  volume  \n",
       "0  32825.0  128333.212416   34218.54   43072  "
      ]
     },
     "execution_count": 57,
     "metadata": {},
     "output_type": "execute_result"
    }
   ],
   "source": [
    "crypto_df.head(1)"
   ]
  },
  {
   "cell_type": "code",
   "execution_count": 58,
   "id": "6cd78b6c-574c-4434-8ea7-8be6526260e5",
   "metadata": {
    "execution": {
     "iopub.execute_input": "2023-11-20T04:10:30.684930Z",
     "iopub.status.busy": "2023-11-20T04:10:30.683930Z",
     "iopub.status.idle": "2023-11-20T04:10:30.828401Z",
     "shell.execute_reply": "2023-11-20T04:10:30.826442Z",
     "shell.execute_reply.started": "2023-11-20T04:10:30.684930Z"
    },
    "tags": []
   },
   "outputs": [
    {
     "data": {
      "text/html": [
       "<div>\n",
       "<style scoped>\n",
       "    .dataframe tbody tr th:only-of-type {\n",
       "        vertical-align: middle;\n",
       "    }\n",
       "\n",
       "    .dataframe tbody tr th {\n",
       "        vertical-align: top;\n",
       "    }\n",
       "\n",
       "    .dataframe thead th {\n",
       "        text-align: right;\n",
       "    }\n",
       "</style>\n",
       "<table border=\"1\" class=\"dataframe\">\n",
       "  <thead>\n",
       "    <tr style=\"text-align: right;\">\n",
       "      <th></th>\n",
       "      <th>Date</th>\n",
       "      <th>DJIA</th>\n",
       "    </tr>\n",
       "  </thead>\n",
       "  <tbody>\n",
       "    <tr>\n",
       "      <th>0</th>\n",
       "      <td>2018-05-07</td>\n",
       "      <td>24357.32</td>\n",
       "    </tr>\n",
       "  </tbody>\n",
       "</table>\n",
       "</div>"
      ],
      "text/plain": [
       "        Date      DJIA\n",
       "0 2018-05-07  24357.32"
      ]
     },
     "execution_count": 58,
     "metadata": {},
     "output_type": "execute_result"
    }
   ],
   "source": [
    "djia_df.head(1)"
   ]
  },
  {
   "cell_type": "code",
   "execution_count": 59,
   "id": "945efe55-b035-4d76-b9b9-c06e5c6dd897",
   "metadata": {
    "execution": {
     "iopub.execute_input": "2023-11-20T04:10:31.153947Z",
     "iopub.status.busy": "2023-11-20T04:10:31.152912Z",
     "iopub.status.idle": "2023-11-20T04:10:31.281464Z",
     "shell.execute_reply": "2023-11-20T04:10:31.277457Z",
     "shell.execute_reply.started": "2023-11-20T04:10:31.153947Z"
    },
    "tags": []
   },
   "outputs": [
    {
     "data": {
      "text/html": [
       "<div>\n",
       "<style scoped>\n",
       "    .dataframe tbody tr th:only-of-type {\n",
       "        vertical-align: middle;\n",
       "    }\n",
       "\n",
       "    .dataframe tbody tr th {\n",
       "        vertical-align: top;\n",
       "    }\n",
       "\n",
       "    .dataframe thead th {\n",
       "        text-align: right;\n",
       "    }\n",
       "</style>\n",
       "<table border=\"1\" class=\"dataframe\">\n",
       "  <thead>\n",
       "    <tr style=\"text-align: right;\">\n",
       "      <th></th>\n",
       "      <th>Date</th>\n",
       "      <th>USEPUINDXD</th>\n",
       "    </tr>\n",
       "  </thead>\n",
       "  <tbody>\n",
       "    <tr>\n",
       "      <th>0</th>\n",
       "      <td>2018-05-07</td>\n",
       "      <td>96.74</td>\n",
       "    </tr>\n",
       "  </tbody>\n",
       "</table>\n",
       "</div>"
      ],
      "text/plain": [
       "        Date  USEPUINDXD\n",
       "0 2018-05-07       96.74"
      ]
     },
     "execution_count": 59,
     "metadata": {},
     "output_type": "execute_result"
    }
   ],
   "source": [
    "uncertainty_df.head(1)"
   ]
  },
  {
   "cell_type": "code",
   "execution_count": null,
   "id": "9a0f5f50-8236-4710-9191-666f91984547",
   "metadata": {},
   "outputs": [],
   "source": []
  },
  {
   "cell_type": "code",
   "execution_count": null,
   "id": "e28e0edb-5c9c-4348-b306-cb07eaabca9d",
   "metadata": {},
   "outputs": [],
   "source": []
  }
 ],
 "metadata": {
  "kernelspec": {
   "display_name": "Python 3 (ipykernel)",
   "language": "python",
   "name": "python3"
  },
  "language_info": {
   "codemirror_mode": {
    "name": "ipython",
    "version": 3
   },
   "file_extension": ".py",
   "mimetype": "text/x-python",
   "name": "python",
   "nbconvert_exporter": "python",
   "pygments_lexer": "ipython3",
   "version": "3.10.10"
  }
 },
 "nbformat": 4,
 "nbformat_minor": 5
}
